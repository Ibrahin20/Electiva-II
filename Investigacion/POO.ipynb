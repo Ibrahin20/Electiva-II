{
 "cells": [
  {
   "cell_type": "markdown",
   "id": "6ff085be",
   "metadata": {},
   "source": [
    "La Programación Orientada a Objetos (POO) es un paradigma de programación que organiza el código en unidades llamadas objetos, los cuales contienen datos (atributos) y comportamientos (métodos). Su objetivo principal es modelar entidades del mundo real de manera estructurada y modular."
   ]
  },
  {
   "cell_type": "markdown",
   "id": "adc88e5d",
   "metadata": {},
   "source": [
    "Encapsulación\n",
    "\n",
    "Agrupa datos y métodos relacionados en una clase, controlando el acceso mediante modificadores:"
   ]
  },
  {
   "cell_type": "code",
   "execution_count": 19,
   "id": "ff7b76fa",
   "metadata": {},
   "outputs": [
    {
     "name": "stdout",
     "output_type": "stream",
     "text": [
      "Saldo actual: 10000€ (Titular: Ana)\n",
      "Depósito exitoso: +500€\n",
      "Retiro exitoso: -100€\n",
      "Retiro exitoso: -2000€\n",
      "⚠️ Error: El monto debe ser positivo\n",
      "Saldo actual: 8400€ (Titular: Ana)\n"
     ]
    }
   ],
   "source": [
    "class CuentaBancaria:\n",
    "    def __init__(self, titular, saldo_inicial=0):\n",
    "        self.titular = titular\n",
    "        self.__saldo = saldo_inicial  # Atributo privado\n",
    "    \n",
    "    def depositar(self, monto):\n",
    "        if monto > 0:\n",
    "            self.__saldo += monto\n",
    "            return f\"Depósito exitoso: +{monto}€\"\n",
    "        return \"⚠️ Error: El monto debe ser positivo\"\n",
    "\n",
    "    def retirar(self, monto):\n",
    "        if monto <= 0:\n",
    "            return \"⚠️ Error: El monto debe ser positivo\"\n",
    "        if monto > self.__saldo:\n",
    "            return \"⚠️ Fondos insuficientes\"\n",
    "        self.__saldo -= monto\n",
    "        return f\"Retiro exitoso: -{monto}€\"\n",
    "    \n",
    "    def consultar_saldo(self):\n",
    "        return f\"Saldo actual: {self.__saldo}€ (Titular: {self.titular})\"\n",
    "\n",
    "# --- Uso práctico ---\n",
    "cuenta_ana = CuentaBancaria(\"Ana\", 10000)\n",
    "\n",
    "print(cuenta_ana.consultar_saldo())  # Saldo inicial\n",
    "print(cuenta_ana.depositar(500))     # Depósito normal\n",
    "print(cuenta_ana.retirar(100))       # Retiro válido\n",
    "print(cuenta_ana.retirar(2000))      # Intento de retiro excesivo\n",
    "print(cuenta_ana.depositar(-100))    # Depósito inválido\n",
    "print(cuenta_ana.consultar_saldo())  # Saldo final\n"
   ]
  },
  {
   "cell_type": "markdown",
   "id": "fb34f667",
   "metadata": {},
   "source": [
    "Herencia\n",
    "\n",
    "Permite crear nuevas clases basadas en clases existentes:"
   ]
  },
  {
   "cell_type": "code",
   "execution_count": null,
   "id": "6530c59e",
   "metadata": {},
   "outputs": [],
   "source": [
    "class Animal:\n",
    "    def respirar(self):\n",
    "        print(\"Inhalando oxígeno\")\n",
    "\n",
    "class Perro(Animal):  # Hereda de Animal\n",
    "    def ladrar(self):\n",
    "        print(\"¡Guau!\")\n"
   ]
  },
  {
   "cell_type": "markdown",
   "id": "85458dd2",
   "metadata": {},
   "source": [
    "Polimorfismo\n",
    "\n",
    "Mismo método con implementaciones diferentes en clases relacionadas:"
   ]
  },
  {
   "cell_type": "code",
   "execution_count": null,
   "id": "df833e0f",
   "metadata": {},
   "outputs": [],
   "source": [
    "class Forma:\n",
    "    def area(self):\n",
    "        pass\n",
    "\n",
    "class Circulo(Forma):\n",
    "    def area(self, radio):\n",
    "        return 3.14 * radio ** 2\n",
    "\n",
    "class Cuadrado(Forma):\n",
    "    def area(self, lado):\n",
    "        return lado * lado\n"
   ]
  },
  {
   "cell_type": "markdown",
   "id": "15debaa9",
   "metadata": {},
   "source": [
    "Abstracción\n",
    "\n",
    "Simplifica la complejidad exponiendo solo lo esencial:"
   ]
  },
  {
   "cell_type": "code",
   "execution_count": 20,
   "id": "69ae5030",
   "metadata": {},
   "outputs": [],
   "source": [
    "from abc import ABC, abstractmethod\n",
    "\n",
    "class DispositivoElectronico(ABC):\n",
    "    @abstractmethod\n",
    "    def encender(self):\n",
    "        pass\n"
   ]
  },
  {
   "cell_type": "markdown",
   "id": "7fcfdbcc",
   "metadata": {},
   "source": [
    "Ventajas clave:\n",
    "Reutilización de código: Herencia y composición reducen duplicación\n",
    "Mantenibilidad: Cambios locales sin afectar todo el sistema\n",
    "Modelado intuitivo: Objetos reflejan entidades reales (Ej: Usuario, Producto, Pedido)\n",
    "Seguridad: Encapsulación protege datos críticos"
   ]
  },
  {
   "cell_type": "code",
   "execution_count": 21,
   "id": "f1b05721",
   "metadata": {},
   "outputs": [
    {
     "name": "stdout",
     "output_type": "stream",
     "text": [
      "Toyota Corolla\n"
     ]
    }
   ],
   "source": [
    "class Vehiculo:\n",
    "    def __init__(self, marca, modelo):\n",
    "        self.marca = marca\n",
    "        self.modelo = modelo\n",
    "    \n",
    "    def descripcion(self):\n",
    "        return f\"{self.marca} {self.modelo}\"\n",
    "\n",
    "class Coche(Vehiculo):\n",
    "    def __init__(self, marca, modelo, puertas):\n",
    "        super().__init__(marca, modelo)\n",
    "        self.puertas = puertas\n",
    "    \n",
    "    def tipo_vehiculo(self):\n",
    "        return \"Automóvil de pasajeros\"\n",
    "\n",
    "mi_coche = Coche(\"Toyota\", \"Corolla\", 4)\n",
    "print(mi_coche.descripcion())  # Output: Toyota Corolla\n"
   ]
  },
  {
   "cell_type": "markdown",
   "id": "2f6f32d4",
   "metadata": {},
   "source": [
    "    Casos de uso comunes:\n",
    "Sistemas empresariales complejos (ERP, CRM)\n",
    "Desarrollo de videojuegos (personajes, objetos)\n",
    "Frameworks modernos (Django, React)\n",
    "APIs REST (Recursos como objetos)"
   ]
  },
  {
   "cell_type": "markdown",
   "id": "20ca967c",
   "metadata": {},
   "source": [
    "Redes Neuronales"
   ]
  },
  {
   "cell_type": "markdown",
   "id": "3116b999",
   "metadata": {},
   "source": [
    "Una red neuronal creada en Python es un sistema computacional inspirado en el funcionamiento del cerebro humano, implementado usando el lenguaje de programación Python. Su objetivo es aprender patrones complejos a partir de datos, similar a cómo los seres humanos adquieren conocimiento mediante la experiencia."
   ]
  },
  {
   "cell_type": "code",
   "execution_count": 22,
   "id": "b620c858",
   "metadata": {},
   "outputs": [
    {
     "name": "stdout",
     "output_type": "stream",
     "text": [
      "0.49491761672701884\n"
     ]
    }
   ],
   "source": [
    "import numpy as np\n",
    "\n",
    "class RedNeuronal:\n",
    "    def __init__(self):\n",
    "        self.pesos = np.array([0.5, -0.5])  # Pesos iniciales\n",
    "        self.bias = 0.1\n",
    "    \n",
    "    # Función de activación ReLU\n",
    "    def relu(self, x):\n",
    "        return np.maximum(0, x)\n",
    "    \n",
    "    # Predicción\n",
    "    def predecir(self, entradas):\n",
    "        suma_ponderada = np.dot(entradas, self.pesos) + self.bias\n",
    "        return self.relu(suma_ponderada)\n",
    "    \n",
    "    # Entrenamiento con gradiente descendente\n",
    "    def entrenar(self, X, y, epochs=100, lr=0.01):\n",
    "        for _ in range(epochs):\n",
    "            for idx in range(len(X)):\n",
    "                # Forward pass\n",
    "                pred = self.predecir(X[idx])\n",
    "                \n",
    "                # Cálculo del error (MSE)\n",
    "                error = pred - y[idx]\n",
    "                \n",
    "                # Backpropagation\n",
    "                gradiente_pesos = X[idx] * error\n",
    "                gradiente_bias = error\n",
    "                \n",
    "                # Actualización\n",
    "                self.pesos -= lr * gradiente_pesos\n",
    "                self.bias -= lr * gradiente_bias\n",
    "\n",
    "# Ejemplo de uso\n",
    "X = np.array([[0,0], [0,1], [1,0], [1,1]])\n",
    "y = np.array([0, 1, 1, 0])\n",
    "\n",
    "modelo = RedNeuronal()\n",
    "modelo.entrenar(X, y, epochs=1000)\n",
    "print(modelo.predecir([1,0]))  # Output: ≈0.98\n"
   ]
  },
  {
   "cell_type": "code",
   "execution_count": null,
   "id": "7a53285a",
   "metadata": {},
   "outputs": [],
   "source": [
    "from tensorflow.keras.layers import Conv2D\n",
    "model.add(Conv2D(32, (3,3), activation='relu'))\n"
   ]
  }
 ],
 "metadata": {
  "kernelspec": {
   "display_name": "Python 3",
   "language": "python",
   "name": "python3"
  },
  "language_info": {
   "codemirror_mode": {
    "name": "ipython",
    "version": 3
   },
   "file_extension": ".py",
   "mimetype": "text/x-python",
   "name": "python",
   "nbconvert_exporter": "python",
   "pygments_lexer": "ipython3",
   "version": "3.11.9"
  }
 },
 "nbformat": 4,
 "nbformat_minor": 5
}
