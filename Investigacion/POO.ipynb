{
 "cells": [
  {
   "cell_type": "markdown",
   "id": "6ff085be",
   "metadata": {},
   "source": [
    "La Programación Orientada a Objetos (POO) es un paradigma de programación que organiza el código en unidades llamadas objetos, los cuales contienen datos (atributos) y comportamientos (métodos). Su objetivo principal es modelar entidades del mundo real de manera estructurada y modular."
   ]
  },
  {
   "cell_type": "markdown",
   "id": "adc88e5d",
   "metadata": {},
   "source": [
    "Encapsulación\n",
    "\n",
    "Agrupa datos y métodos relacionados en una clase, controlando el acceso mediante modificadores:"
   ]
  },
  {
   "cell_type": "code",
   "execution_count": 19,
   "id": "ff7b76fa",
   "metadata": {},
   "outputs": [
    {
     "name": "stdout",
     "output_type": "stream",
     "text": [
      "Saldo actual: 10000€ (Titular: Ana)\n",
      "Depósito exitoso: +500€\n",
      "Retiro exitoso: -100€\n",
      "Retiro exitoso: -2000€\n",
      "⚠️ Error: El monto debe ser positivo\n",
      "Saldo actual: 8400€ (Titular: Ana)\n"
     ]
    }
   ],
   "source": [
    "class CuentaBancaria:\n",
    "    def __init__(self, titular, saldo_inicial=0):\n",
    "        self.titular = titular\n",
    "        self.__saldo = saldo_inicial  # Atributo privado\n",
    "    \n",
    "    def depositar(self, monto):\n",
    "        if monto > 0:\n",
    "            self.__saldo += monto\n",
    "            return f\"Depósito exitoso: +{monto}€\"\n",
    "        return \"⚠️ Error: El monto debe ser positivo\"\n",
    "\n",
    "    def retirar(self, monto):\n",
    "        if monto <= 0:\n",
    "            return \"⚠️ Error: El monto debe ser positivo\"\n",
    "        if monto > self.__saldo:\n",
    "            return \"⚠️ Fondos insuficientes\"\n",
    "        self.__saldo -= monto\n",
    "        return f\"Retiro exitoso: -{monto}€\"\n",
    "    \n",
    "    def consultar_saldo(self):\n",
    "        return f\"Saldo actual: {self.__saldo}€ (Titular: {self.titular})\"\n",
    "\n",
    "# --- Uso práctico ---\n",
    "cuenta_ana = CuentaBancaria(\"Ana\", 10000)\n",
    "\n",
    "print(cuenta_ana.consultar_saldo())  # Saldo inicial\n",
    "print(cuenta_ana.depositar(500))     # Depósito normal\n",
    "print(cuenta_ana.retirar(100))       # Retiro válido\n",
    "print(cuenta_ana.retirar(2000))      # Intento de retiro excesivo\n",
    "print(cuenta_ana.depositar(-100))    # Depósito inválido\n",
    "print(cuenta_ana.consultar_saldo())  # Saldo final\n"
   ]
  },
  {
   "cell_type": "markdown",
   "id": "1edf70ef",
   "metadata": {},
   "source": []
  }
 ],
 "metadata": {
  "kernelspec": {
   "display_name": "Python 3",
   "language": "python",
   "name": "python3"
  },
  "language_info": {
   "codemirror_mode": {
    "name": "ipython",
    "version": 3
   },
   "file_extension": ".py",
   "mimetype": "text/x-python",
   "name": "python",
   "nbconvert_exporter": "python",
   "pygments_lexer": "ipython3",
   "version": "3.11.9"
  }
 },
 "nbformat": 4,
 "nbformat_minor": 5
}
